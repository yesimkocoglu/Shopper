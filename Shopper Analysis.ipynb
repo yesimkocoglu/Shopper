{
 "cells": [
  {
   "cell_type": "code",
   "execution_count": 3,
   "metadata": {},
   "outputs": [],
   "source": [
    "import pandas as pd\n",
    "import numpy as np\n",
    "from sklearn.model_selection import train_test_split\n",
    "from sklearn.linear_model import LogisticRegression\n",
    "from sklearn.metrics import confusion_matrix, classification_report"
   ]
  },
  {
   "cell_type": "markdown",
   "metadata": {},
   "source": [
    "### Logistic Regression\n",
    "The dataset:\n",
    "\n"
   ]
  },
  {
   "cell_type": "code",
   "execution_count": 4,
   "metadata": {},
   "outputs": [],
   "source": [
    "data = pd.read_csv('shopper.csv')"
   ]
  },
  {
   "cell_type": "markdown",
   "metadata": {},
   "source": [
    "Now, I will preprocess data to turn all categorical and binary variables into numerical dummy variables. "
   ]
  },
  {
   "cell_type": "code",
   "execution_count": 5,
   "metadata": {},
   "outputs": [],
   "source": [
    "### non-numericals converted to dummy variables\n",
    "revenue = pd.get_dummies(data['Revenue'],drop_first=True)\n",
    "weekend = pd.get_dummies(data['Weekend'], drop_first = True)\n",
    "visitor_type = pd.get_dummies(data['VisitorType'])\n",
    "month = pd.get_dummies(data['Month'], drop_first = True)\n",
    "\n",
    "### drop-outs, column-name changes and 'concat's\n",
    "\n",
    "#drop-outs\n",
    "data.drop( ['Revenue', 'Weekend', 'VisitorType', 'Month'], axis = 1, inplace = True)\n",
    "visitor_type.drop( ['Other'], axis = 1, inplace=True)\n",
    "\n",
    "# column-name changes\n",
    "revenue.rename(columns={True:'Revenue'},inplace=True)\n",
    "weekend.rename(columns={True:'Weekend'}, inplace=True)\n",
    "\n",
    "# concat's\n",
    "data = pd.concat([data, revenue], axis=1)\n",
    "data = pd.concat( [data, weekend], axis=1)\n",
    "data = pd.concat( [data, visitor_type], axis=1)\n",
    "data = pd.concat( [data, month], axis=1)"
   ]
  },
  {
   "cell_type": "markdown",
   "metadata": {},
   "source": [
    "Dividing the dataset into training and validation sets with 60%-40% ratio"
   ]
  },
  {
   "cell_type": "code",
   "execution_count": 10,
   "metadata": {},
   "outputs": [],
   "source": [
    "x = data.drop('Revenue',axis=1)\n",
    "y = data['Revenue']\n",
    "\n",
    "x_train, x_test, y_train, y_test = train_test_split(x, y, test_size = 0.40)"
   ]
  },
  {
   "cell_type": "markdown",
   "metadata": {},
   "source": [
    "Training a logistic regression classifier on the training dataset using scikit-learn."
   ]
  },
  {
   "cell_type": "code",
   "execution_count": 11,
   "metadata": {},
   "outputs": [
    {
     "data": {
      "text/plain": [
       "LogisticRegression(max_iter=20000, solver='sag')"
      ]
     },
     "execution_count": 11,
     "metadata": {},
     "output_type": "execute_result"
    }
   ],
   "source": [
    "logmodel = LogisticRegression(max_iter=20000, solver='sag')\n",
    "logmodel.fit(x_train,y_train) "
   ]
  },
  {
   "cell_type": "markdown",
   "metadata": {},
   "source": [
    "Now, generating predictions from the classifier for the validation dataset, and its predictive performance in terms of `sensitivity` and `specificity`."
   ]
  },
  {
   "cell_type": "code",
   "execution_count": 12,
   "metadata": {},
   "outputs": [
    {
     "name": "stdout",
     "output_type": "stream",
     "text": [
      "\n",
      "------------------------\n",
      "Sensitivity: 0.4076015727391874\n",
      "------------------------\n",
      "Specificity: 0.9712161189733749\n",
      "------------------------\n",
      "True Positives (tp): 311\n",
      "False Positives (fp): 120\n",
      "False Negatives(fn): 452\n",
      "True Negatives (tn): 4049\n",
      "------------------------\n",
      "classification_report:\n",
      "\n",
      "              precision    recall  f1-score   support\n",
      "\n",
      "           0       0.90      0.97      0.93      4169\n",
      "           1       0.72      0.41      0.52       763\n",
      "\n",
      "    accuracy                           0.88      4932\n",
      "   macro avg       0.81      0.69      0.73      4932\n",
      "weighted avg       0.87      0.88      0.87      4932\n",
      "\n"
     ]
    }
   ],
   "source": [
    "y_pred = logmodel.predict(x_test)\n",
    "tn, fp, fn, tp = confusion_matrix(y_test, y_pred).ravel()\n",
    "print(\"\")\n",
    "print(\"------------------------\")\n",
    "print(\"Sensitivity:\", tp/(tp+fn))\n",
    "print(\"------------------------\")\n",
    "print(\"Specificity:\", tn/(tn+fp))\n",
    "print(\"------------------------\")\n",
    "print(\"True Positives (tp):\",tp)\n",
    "print(\"False Positives (fp):\",fp)\n",
    "print(\"False Negatives(fn):\",fn)\n",
    "print(\"True Negatives (tn):\",tn)\n",
    "print(\"------------------------\")\n",
    "print(\"classification_report:\")\n",
    "print(\"\")\n",
    "print(classification_report(y_test, y_pred))"
   ]
  },
  {
   "cell_type": "code",
   "execution_count": 16,
   "metadata": {},
   "outputs": [
    {
     "name": "stdout",
     "output_type": "stream",
     "text": [
      "Sensitivity:  0.4076015727391874\n",
      "Specificity:  0.9712161189733749\n"
     ]
    }
   ],
   "source": [
    "from sklearn.metrics import confusion_matrix\n",
    "predictions = logmodel.predict(x_test)\n",
    "\n",
    "def summary(y, yhat):\n",
    "    tn, fp, fn, tp = confusion_matrix(y, yhat).ravel()\n",
    "    print(\"Sensitivity: \",tp/(tp + fn))\n",
    "    print(\"Specificity: \",tn / (tn + fp))\n",
    "\n",
    "summary(y_test, predictions)\n"
   ]
  },
  {
   "cell_type": "markdown",
   "metadata": {},
   "source": [
    "Random Forest Classifier"
   ]
  },
  {
   "cell_type": "code",
   "execution_count": 17,
   "metadata": {},
   "outputs": [
    {
     "name": "stdout",
     "output_type": "stream",
     "text": [
      "Sensitivity:  0.5897771952817824\n",
      "Specificity:  0.957543775485728\n"
     ]
    },
    {
     "data": {
      "text/plain": [
       "(None,)"
      ]
     },
     "execution_count": 17,
     "metadata": {},
     "output_type": "execute_result"
    }
   ],
   "source": [
    "from sklearn.ensemble import RandomForestClassifier\n",
    "\n",
    "rfmodel = RandomForestClassifier()\n",
    "rfmodel.fit(x_train, y_train)\n",
    "\n",
    "rfpred = rfmodel.predict(x_test)\n",
    "summary(y_test,rfpred),"
   ]
  },
  {
   "cell_type": "markdown",
   "metadata": {},
   "source": [
    "K Neighbors Classifier"
   ]
  },
  {
   "cell_type": "code",
   "execution_count": 18,
   "metadata": {},
   "outputs": [
    {
     "name": "stdout",
     "output_type": "stream",
     "text": [
      "Sensitivity:  0.34338138925294887\n",
      "Specificity:  0.9405133125449748\n"
     ]
    }
   ],
   "source": [
    "from sklearn.neighbors import KNeighborsClassifier\n",
    "n_neighbors = 3\n",
    "knnmodel = KNeighborsClassifier(n_neighbors)\n",
    "knnmodel.fit(x_train,y_train)\n",
    "knnpred = knnmodel.predict(x_test)\n",
    "summary(y_test,knnpred)"
   ]
  },
  {
   "cell_type": "code",
   "execution_count": null,
   "metadata": {},
   "outputs": [],
   "source": []
  }
 ],
 "metadata": {
  "kernelspec": {
   "display_name": "Python 3 (ipykernel)",
   "language": "python",
   "name": "python3"
  },
  "language_info": {
   "codemirror_mode": {
    "name": "ipython",
    "version": 3
   },
   "file_extension": ".py",
   "mimetype": "text/x-python",
   "name": "python",
   "nbconvert_exporter": "python",
   "pygments_lexer": "ipython3",
   "version": "3.9.7"
  }
 },
 "nbformat": 4,
 "nbformat_minor": 4
}
